{
 "metadata": {
  "language_info": {
   "codemirror_mode": {
    "name": "ipython",
    "version": 3
   },
   "file_extension": ".py",
   "mimetype": "text/x-python",
   "name": "python",
   "nbconvert_exporter": "python",
   "pygments_lexer": "ipython3",
   "version": "3.9.5"
  },
  "orig_nbformat": 4,
  "kernelspec": {
   "name": "python3",
   "display_name": "Python 3.9.5 64-bit"
  },
  "interpreter": {
   "hash": "39d55fcea0de274635a1f464e9bc70e6df40b06e7f45303bbd60add6a4a03e58"
  }
 },
 "nbformat": 4,
 "nbformat_minor": 2,
 "cells": [
  {
   "source": [
    "# Largest palindrome product\n",
    "## Problem 4\n",
    "A palindromic number reads the same both ways. The largest palindrome made from the product of two 2-digit numbers is 9009 = 91 × 99.\n",
    "\n",
    "Find the largest palindrome made from the product of two 3-digit numbers."
   ],
   "cell_type": "markdown",
   "metadata": {}
  },
  {
   "cell_type": "code",
   "execution_count": 28,
   "metadata": {},
   "outputs": [
    {
     "output_type": "stream",
     "name": "stdout",
     "text": [
      "906609\n"
     ]
    }
   ],
   "source": [
    "x = 999\n",
    "\n",
    "# Check if num (int) is a palindrome\n",
    "def isPalindrome(num):\n",
    "    numStr = str(num)\n",
    "    for i in range(len(numStr) // 2):\n",
    "        if numStr[i] != numStr[len(numStr)-i-1]:\n",
    "            return False\n",
    "    return True\n",
    "\n",
    "# Check all unique products, from (1,1) to (999,999)\n",
    "# Return the largest palindrome found\n",
    "i = 1\n",
    "largestPal = 0\n",
    "while i <= x:\n",
    "    j = 1\n",
    "    while j <= i:\n",
    "        prod = i*j\n",
    "        if isPalindrome(prod): largestPal = max(largestPal, prod)\n",
    "        j += 1\n",
    "    i += 1\n",
    "print(largestPal)"
   ]
  },
  {
   "source": [
    "Again, not very efficient.\n",
    "\n",
    "Would be **much** better to work backwards from 999x999. The tricky part is we have to place all the products in decreasing order.\n",
    "Well... maybe it's not tricky and I'm just not seeing the method immediately."
   ],
   "cell_type": "markdown",
   "metadata": {}
  },
  {
   "cell_type": "code",
   "execution_count": null,
   "metadata": {},
   "outputs": [],
   "source": []
  }
 ]
}