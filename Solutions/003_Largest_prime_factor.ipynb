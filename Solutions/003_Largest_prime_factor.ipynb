{
 "metadata": {
  "language_info": {
   "codemirror_mode": {
    "name": "ipython",
    "version": 3
   },
   "file_extension": ".py",
   "mimetype": "text/x-python",
   "name": "python",
   "nbconvert_exporter": "python",
   "pygments_lexer": "ipython3",
   "version": "3.9.5"
  },
  "orig_nbformat": 4,
  "kernelspec": {
   "name": "python3",
   "display_name": "Python 3.9.5 64-bit"
  },
  "interpreter": {
   "hash": "39d55fcea0de274635a1f464e9bc70e6df40b06e7f45303bbd60add6a4a03e58"
  }
 },
 "nbformat": 4,
 "nbformat_minor": 2,
 "cells": [
  {
   "source": [
    "# Largest prime factor\n",
    "## Problem 3\n",
    "The prime factors of 13195 are 5, 7, 13 and 29.\n",
    "\n",
    "What is the largest prime factor of the number 600851475143 ?   "
   ],
   "cell_type": "markdown",
   "metadata": {}
  },
  {
   "cell_type": "code",
   "execution_count": 17,
   "metadata": {},
   "outputs": [
    {
     "output_type": "stream",
     "name": "stdout",
     "text": [
      "6857\n"
     ]
    }
   ],
   "source": [
    "x = 600851475143\n",
    "\n",
    "# Iterate over numbers i between 2 and x/2\n",
    "# if i|x, then continue the process with x := x/i.\n",
    "# if i > x/2, return i\n",
    "i = 2\n",
    "while i <= x:\n",
    "    if x % i == 0:\n",
    "        x /= i\n",
    "        continue\n",
    "    i += 1\n",
    "print(i)"
   ]
  },
  {
   "source": [
    "Definitely could be optimized. \n",
    "For example, could first check for all factors of 2, then use i+=2 in the for loop (halve the time required).\n",
    "\n",
    "Could also first implement a seive over range [2,x//2], then iterate over those values until the largest factor is found.\n",
    "\n",
    "But, my approach is simple and works for small numbers like the one provided."
   ],
   "cell_type": "markdown",
   "metadata": {}
  }
 ]
}