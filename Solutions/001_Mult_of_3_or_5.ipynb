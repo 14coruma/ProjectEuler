{
 "metadata": {
  "language_info": {
   "codemirror_mode": {
    "name": "ipython",
    "version": 3
   },
   "file_extension": ".py",
   "mimetype": "text/x-python",
   "name": "python",
   "nbconvert_exporter": "python",
   "pygments_lexer": "ipython3",
   "version": "3.9.5"
  },
  "orig_nbformat": 4,
  "kernelspec": {
   "name": "python3",
   "display_name": "Python 3.9.5 64-bit"
  },
  "interpreter": {
   "hash": "39d55fcea0de274635a1f464e9bc70e6df40b06e7f45303bbd60add6a4a03e58"
  }
 },
 "nbformat": 4,
 "nbformat_minor": 2,
 "cells": [
  {
   "source": [
    "# Multiples of 3 or 5\n",
    "## Problem 1\n",
    "If we list all the natural numbers below 10 that are multiples of 3 or 5, we get 3, 5, 6 and 9. The sum of these multiples is 23. \n",
    "\n",
    "Find the sum of all the multiples of 3 or 5 below 1000.\n"
   ],
   "cell_type": "markdown",
   "metadata": {}
  },
  {
   "cell_type": "code",
   "execution_count": 13,
   "metadata": {},
   "outputs": [
    {
     "output_type": "stream",
     "name": "stdout",
     "text": [
      "233168\n"
     ]
    }
   ],
   "source": [
    "x = 1000\n",
    "\n",
    "# Iterate over all numbers i in [3,x),\n",
    "# summing up only 3|i or 5|i\n",
    "total = 0\n",
    "for i in range(3,x):\n",
    "    if (i%3 == 0) or (i%5 == 0):\n",
    "        total += i\n",
    "print(total)"
   ]
  },
  {
   "source": [
    "It's probably possible to solve this with a formula, similar to Gauss's x(x-1)/2."
   ],
   "cell_type": "markdown",
   "metadata": {}
  }
 ]
}